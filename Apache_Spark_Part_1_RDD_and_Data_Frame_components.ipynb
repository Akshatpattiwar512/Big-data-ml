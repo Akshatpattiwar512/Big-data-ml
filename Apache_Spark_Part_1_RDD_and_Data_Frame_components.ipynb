{
  "nbformat": 4,
  "nbformat_minor": 0,
  "metadata": {
    "colab": {
      "name": "Apache Spark-Part 1:RDD and Data Frame components.ipynb",
      "provenance": [],
      "authorship_tag": "ABX9TyP7Blf7K80Zsqxwd/ov2kGD",
      "include_colab_link": true
    },
    "kernelspec": {
      "name": "python3",
      "display_name": "Python 3"
    },
    "language_info": {
      "name": "python"
    }
  },
  "cells": [
    {
      "cell_type": "markdown",
      "metadata": {
        "id": "view-in-github",
        "colab_type": "text"
      },
      "source": [
        "<a href=\"https://colab.research.google.com/github/Akshatpattiwar512/Big-data-ml/blob/main/Apache_Spark_Part_1_RDD_and_Data_Frame_components.ipynb\" target=\"_parent\"><img src=\"https://colab.research.google.com/assets/colab-badge.svg\" alt=\"Open In Colab\"/></a>"
      ]
    },
    {
      "cell_type": "markdown",
      "metadata": {
        "id": "bDaS15z7WVPd"
      },
      "source": [
        "#Getting Started with Apache Spark - Part 1:RDD and Data Frame components"
      ]
    },
    {
      "cell_type": "markdown",
      "metadata": {
        "id": "Nk5RHj5u1Qbo"
      },
      "source": [
        "This notebook is based on [Apache Spark-Part 1:RDD and Data Frame components Article](https://www.linkedin.com/pulse/apache-spark-akshat-pattiwar/)"
      ]
    },
    {
      "cell_type": "markdown",
      "metadata": {
        "id": "FwHtHv2MWNAV"
      },
      "source": [
        "##Installing pySpark using pip"
      ]
    },
    {
      "cell_type": "code",
      "metadata": {
        "colab": {
          "base_uri": "https://localhost:8080/"
        },
        "id": "GYS_PCeWV5xf",
        "outputId": "245df3c8-43fc-414d-c541-24d532ee4d6a"
      },
      "source": [
        "!pip install pyspark"
      ],
      "execution_count": 2,
      "outputs": [
        {
          "output_type": "stream",
          "text": [
            "Collecting pyspark\n",
            "\u001b[?25l  Downloading https://files.pythonhosted.org/packages/89/db/e18cfd78e408de957821ec5ca56de1250645b05f8523d169803d8df35a64/pyspark-3.1.2.tar.gz (212.4MB)\n",
            "\u001b[K     |████████████████████████████████| 212.4MB 61kB/s \n",
            "\u001b[?25hCollecting py4j==0.10.9\n",
            "\u001b[?25l  Downloading https://files.pythonhosted.org/packages/9e/b6/6a4fb90cd235dc8e265a6a2067f2a2c99f0d91787f06aca4bcf7c23f3f80/py4j-0.10.9-py2.py3-none-any.whl (198kB)\n",
            "\u001b[K     |████████████████████████████████| 204kB 17.8MB/s \n",
            "\u001b[?25hBuilding wheels for collected packages: pyspark\n",
            "  Building wheel for pyspark (setup.py) ... \u001b[?25l\u001b[?25hdone\n",
            "  Created wheel for pyspark: filename=pyspark-3.1.2-py2.py3-none-any.whl size=212880768 sha256=8b3198bbbb0f1093afecd70c4d732292ccc5cc2f985628b16a35fecbb3cf80a2\n",
            "  Stored in directory: /root/.cache/pip/wheels/40/1b/2c/30f43be2627857ab80062bef1527c0128f7b4070b6b2d02139\n",
            "Successfully built pyspark\n",
            "Installing collected packages: py4j, pyspark\n",
            "Successfully installed py4j-0.10.9 pyspark-3.1.2\n"
          ],
          "name": "stdout"
        }
      ]
    },
    {
      "cell_type": "markdown",
      "metadata": {
        "id": "OOTzoXCoWhZm"
      },
      "source": [
        "##Installing required values"
      ]
    },
    {
      "cell_type": "code",
      "metadata": {
        "id": "YQ3EmCT2VCJd"
      },
      "source": [
        "from pyspark.sql import SparkSession"
      ],
      "execution_count": 4,
      "outputs": []
    },
    {
      "cell_type": "markdown",
      "metadata": {
        "id": "JeHVdkRfWyrc"
      },
      "source": [
        "##Create SparkSession and SparkContext"
      ]
    },
    {
      "cell_type": "code",
      "metadata": {
        "id": "PJjvLNAPVwpe"
      },
      "source": [
        "spark = SparkSession.builder.getOrCreate()\n",
        "sc = spark.sparkContext"
      ],
      "execution_count": 5,
      "outputs": []
    },
    {
      "cell_type": "markdown",
      "metadata": {
        "id": "EI2-EG1XW2Qc"
      },
      "source": [
        "##Create a RDD from a collection"
      ]
    },
    {
      "cell_type": "code",
      "metadata": {
        "colab": {
          "base_uri": "https://localhost:8080/"
        },
        "id": "qNq3VjJBVx_j",
        "outputId": "e552d5d9-d183-4144-ab70-759a0e7b4fa4"
      },
      "source": [
        "num = [1,2,3,4,5]\n",
        "num_rdd = sc.parallelize(num)\n",
        "num_rdd.collect()"
      ],
      "execution_count": 6,
      "outputs": [
        {
          "output_type": "execute_result",
          "data": {
            "text/plain": [
              "[1, 2, 3, 4, 5]"
            ]
          },
          "metadata": {
            "tags": []
          },
          "execution_count": 6
        }
      ]
    },
    {
      "cell_type": "markdown",
      "metadata": {
        "id": "IjHo8zWcW42s"
      },
      "source": [
        "##Transformations"
      ]
    },
    {
      "cell_type": "markdown",
      "metadata": {
        "id": "rG1PMxVOW97U"
      },
      "source": [
        "###filter()"
      ]
    },
    {
      "cell_type": "markdown",
      "metadata": {
        "id": "DsH1rz_PxAQH"
      },
      "source": [
        "To filter the data based on a certain condition."
      ]
    },
    {
      "cell_type": "code",
      "metadata": {
        "colab": {
          "base_uri": "https://localhost:8080/"
        },
        "id": "F7s7DGA7WKqy",
        "outputId": "0c9788dd-da97-4553-83c4-f4c3a4d2249b"
      },
      "source": [
        "even_rdd = num_rdd.filter(lambda x : x % 2 == 0)\n",
        "even_rdd.collect()"
      ],
      "execution_count": 7,
      "outputs": [
        {
          "output_type": "execute_result",
          "data": {
            "text/plain": [
              "[2, 4]"
            ]
          },
          "metadata": {
            "tags": []
          },
          "execution_count": 7
        }
      ]
    },
    {
      "cell_type": "markdown",
      "metadata": {
        "id": "U--Wwmx2xJwn"
      },
      "source": [
        "###map()"
      ]
    },
    {
      "cell_type": "markdown",
      "metadata": {
        "id": "h53WY8ypxQTP"
      },
      "source": [
        "This will map your input to some output based on the function specified in the map function."
      ]
    },
    {
      "cell_type": "code",
      "metadata": {
        "colab": {
          "base_uri": "https://localhost:8080/"
        },
        "id": "HWTFg7GEw7qe",
        "outputId": "2b9d1e5c-9acc-4ed8-9020-1cc2f87b5469"
      },
      "source": [
        "double_rdd = num_rdd.map(lambda x : x * 2)\n",
        "double_rdd.collect()"
      ],
      "execution_count": 8,
      "outputs": [
        {
          "output_type": "execute_result",
          "data": {
            "text/plain": [
              "[2, 4, 6, 8, 10]"
            ]
          },
          "metadata": {
            "tags": []
          },
          "execution_count": 8
        }
      ]
    },
    {
      "cell_type": "markdown",
      "metadata": {
        "id": "AEKDMPWIxozP"
      },
      "source": [
        "###flatMap()"
      ]
    },
    {
      "cell_type": "markdown",
      "metadata": {
        "id": "U7_8fa2Uxs3_"
      },
      "source": [
        "This function is very similar to map, but can return multiple elements for each input in the given RDD."
      ]
    },
    {
      "cell_type": "code",
      "metadata": {
        "colab": {
          "base_uri": "https://localhost:8080/"
        },
        "id": "3U8tciNMxlG_",
        "outputId": "7085c3cc-72d2-4684-d087-e5e72da5bbe6"
      },
      "source": [
        "flat_rdd = num_rdd.flatMap(lambda x : range(1,x))\n",
        "flat_rdd.collect()"
      ],
      "execution_count": 9,
      "outputs": [
        {
          "output_type": "execute_result",
          "data": {
            "text/plain": [
              "[1, 1, 2, 1, 2, 3, 1, 2, 3, 4]"
            ]
          },
          "metadata": {
            "tags": []
          },
          "execution_count": 9
        }
      ]
    },
    {
      "cell_type": "markdown",
      "metadata": {
        "id": "wDObYi0Dxyh-"
      },
      "source": [
        "###distinct()"
      ]
    },
    {
      "cell_type": "markdown",
      "metadata": {
        "id": "T4XHOXvdx03R"
      },
      "source": [
        "This will return distinct elements from an RDD."
      ]
    },
    {
      "cell_type": "code",
      "metadata": {
        "colab": {
          "base_uri": "https://localhost:8080/"
        },
        "id": "iDPR4Y7rxwC6",
        "outputId": "21d2258d-89e6-4751-ab69-a549bab393d9"
      },
      "source": [
        "rdd1 = sc.parallelize([10, 11, 10, 11, 12, 11])\n",
        "dist_rdd = rdd1.distinct()\n",
        "dist_rdd.collect()"
      ],
      "execution_count": 10,
      "outputs": [
        {
          "output_type": "execute_result",
          "data": {
            "text/plain": [
              "[10, 12, 11]"
            ]
          },
          "metadata": {
            "tags": []
          },
          "execution_count": 10
        }
      ]
    },
    {
      "cell_type": "markdown",
      "metadata": {
        "id": "jpg0FLdoyKkZ"
      },
      "source": [
        "###reduceByKey()"
      ]
    },
    {
      "cell_type": "markdown",
      "metadata": {
        "id": "YZx4r9j7yNyw"
      },
      "source": [
        "This function reduces the key values pairs based on the keys and a given function inside the reduceByKey."
      ]
    },
    {
      "cell_type": "code",
      "metadata": {
        "colab": {
          "base_uri": "https://localhost:8080/"
        },
        "id": "FUqfjI0MyJAw",
        "outputId": "e3465fc1-8af0-4054-b6ac-42ceff725a03"
      },
      "source": [
        "pairs = [ (\"a\", 5), (\"b\", 7), (\"c\", 2), (\"a\", 3), (\"b\", 1), (\"c\", 4)]\n",
        "pair_rdd = sc.parallelize(pairs)\n",
        "output = pair_rdd.reduceByKey(lambda x, y : x + y)\n",
        "result = output.collect()\n",
        "print(*result, sep='\\n')"
      ],
      "execution_count": 11,
      "outputs": [
        {
          "output_type": "stream",
          "text": [
            "('b', 8)\n",
            "('c', 6)\n",
            "('a', 8)\n"
          ],
          "name": "stdout"
        }
      ]
    },
    {
      "cell_type": "markdown",
      "metadata": {
        "id": "ijUqiLKEyR_u"
      },
      "source": [
        "###groupByKey()"
      ]
    },
    {
      "cell_type": "markdown",
      "metadata": {
        "id": "fughHmDRybH1"
      },
      "source": [
        "This function is another ByKey function which can operate on a (key, value) pair RDD but this will only group the values based on the keys."
      ]
    },
    {
      "cell_type": "code",
      "metadata": {
        "id": "-uoffDyRyQLS"
      },
      "source": [
        "grp_out = pair_rdd.groupByKey()"
      ],
      "execution_count": 12,
      "outputs": []
    },
    {
      "cell_type": "markdown",
      "metadata": {
        "id": "Gmrpg787ygIB"
      },
      "source": [
        "###sortByKey()"
      ]
    },
    {
      "cell_type": "markdown",
      "metadata": {
        "id": "68Jywxu4yjNe"
      },
      "source": [
        "This function will perform the sorting on a (key, value) pair RDD based on the keys. By default, sorting will be done in ascending order."
      ]
    },
    {
      "cell_type": "code",
      "metadata": {
        "colab": {
          "base_uri": "https://localhost:8080/"
        },
        "id": "EfsD9DZqyeFO",
        "outputId": "86f910a3-f383-4c77-a2bd-74fc2765c58b"
      },
      "source": [
        "pairs = [ (\"a\", 5), (\"d\", 7), (\"c\", 2), (\"b\", 3)]\n",
        "raw_rdd = sc.parallelize(pairs)\n",
        "sortkey_rdd = raw_rdd.sortByKey()\n",
        "result = sortkey_rdd.collect()\n",
        "print(*result,sep='\\n')"
      ],
      "execution_count": 13,
      "outputs": [
        {
          "output_type": "stream",
          "text": [
            "('a', 5)\n",
            "('b', 3)\n",
            "('c', 2)\n",
            "('d', 7)\n"
          ],
          "name": "stdout"
        }
      ]
    },
    {
      "cell_type": "markdown",
      "metadata": {
        "id": "S25DEGHxym_e"
      },
      "source": [
        "###sortBy()"
      ]
    },
    {
      "cell_type": "markdown",
      "metadata": {
        "id": "juzoB0hbypyN"
      },
      "source": [
        "sortBy is a more generalized function for sorting."
      ]
    },
    {
      "cell_type": "code",
      "metadata": {
        "colab": {
          "base_uri": "https://localhost:8080/"
        },
        "id": "-c5Pc_4vylKy",
        "outputId": "27550fb9-3218-4627-931c-f2dfb3f8e268"
      },
      "source": [
        "# Create RDD.\n",
        "pairs = [ (\"a\", 5, 10), (\"d\", 7, 12), (\"c\", 2, 11), (\"b\", 3, 9)]\n",
        "raw_rdd = sc.parallelize(pairs)\n",
        "\n",
        "# Let’s try to do the sorting based on the 3rd element of the tuple.\n",
        "sort_out = raw_rdd.sortBy(lambda x : x[2])\n",
        "result = sort_out.collect()\n",
        "print(*result, sep='\\n')"
      ],
      "execution_count": 14,
      "outputs": [
        {
          "output_type": "stream",
          "text": [
            "('b', 3, 9)\n",
            "('a', 5, 10)\n",
            "('c', 2, 11)\n",
            "('d', 7, 12)\n"
          ],
          "name": "stdout"
        }
      ]
    },
    {
      "cell_type": "markdown",
      "metadata": {
        "id": "MA3-YoKwyvo2"
      },
      "source": [
        "##Actions"
      ]
    },
    {
      "cell_type": "markdown",
      "metadata": {
        "id": "a6p7iD7myxxI"
      },
      "source": [
        "Actions are operations on RDDs which execute immediately. While Transformations return another RDD, Actions return language native data structures."
      ]
    },
    {
      "cell_type": "markdown",
      "metadata": {
        "id": "RpSlth-tyzA2"
      },
      "source": [
        "###count()"
      ]
    },
    {
      "cell_type": "markdown",
      "metadata": {
        "id": "ElsHBP6cy1CO"
      },
      "source": [
        "This will count the number of elements in the given RDD."
      ]
    },
    {
      "cell_type": "code",
      "metadata": {
        "colab": {
          "base_uri": "https://localhost:8080/"
        },
        "id": "9UGo31Bzysee",
        "outputId": "bb33f187-5280-4675-b0c8-867cf750da49"
      },
      "source": [
        "num = sc.parallelize([1,2,3,4,2])\n",
        "num.count()"
      ],
      "execution_count": 15,
      "outputs": [
        {
          "output_type": "execute_result",
          "data": {
            "text/plain": [
              "5"
            ]
          },
          "metadata": {
            "tags": []
          },
          "execution_count": 15
        }
      ]
    },
    {
      "cell_type": "markdown",
      "metadata": {
        "id": "d6pqUBENzJoh"
      },
      "source": [
        "###first()"
      ]
    },
    {
      "cell_type": "markdown",
      "metadata": {
        "id": "nH8TrVRJzMoB"
      },
      "source": [
        "This will return the first element from given RDD."
      ]
    },
    {
      "cell_type": "code",
      "metadata": {
        "colab": {
          "base_uri": "https://localhost:8080/"
        },
        "id": "Hw4T8kOSy2g7",
        "outputId": "5e8981fb-cfa0-4875-9faa-4040144c79cd"
      },
      "source": [
        "num.first()"
      ],
      "execution_count": 16,
      "outputs": [
        {
          "output_type": "execute_result",
          "data": {
            "text/plain": [
              "1"
            ]
          },
          "metadata": {
            "tags": []
          },
          "execution_count": 16
        }
      ]
    },
    {
      "cell_type": "markdown",
      "metadata": {
        "id": "dtDxsJ4VzRQP"
      },
      "source": [
        "###collect()"
      ]
    },
    {
      "cell_type": "markdown",
      "metadata": {
        "id": "TkD0PW7qzU92"
      },
      "source": [
        "This will return all the elements for the given RDD."
      ]
    },
    {
      "cell_type": "code",
      "metadata": {
        "colab": {
          "base_uri": "https://localhost:8080/"
        },
        "id": "Fxyl94vTzOFB",
        "outputId": "28f0b990-e47e-4723-d3e4-d893875cf62d"
      },
      "source": [
        "num.collect()"
      ],
      "execution_count": 17,
      "outputs": [
        {
          "output_type": "execute_result",
          "data": {
            "text/plain": [
              "[1, 2, 3, 4, 2]"
            ]
          },
          "metadata": {
            "tags": []
          },
          "execution_count": 17
        }
      ]
    },
    {
      "cell_type": "markdown",
      "metadata": {
        "id": "zeSrnaZezn8-"
      },
      "source": [
        "###take()"
      ]
    },
    {
      "cell_type": "markdown",
      "metadata": {
        "id": "UzglUeQkztJB"
      },
      "source": [
        "This will return the number of elements specified."
      ]
    },
    {
      "cell_type": "code",
      "metadata": {
        "id": "NVGjDLVczgWz"
      },
      "source": [
        "num.take(3)"
      ],
      "execution_count": null,
      "outputs": []
    }
  ]
}